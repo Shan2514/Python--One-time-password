{
  "nbformat": 4,
  "nbformat_minor": 0,
  "metadata": {
    "colab": {
      "provenance": []
    },
    "kernelspec": {
      "name": "python3",
      "display_name": "Python 3"
    },
    "language_info": {
      "name": "python"
    }
  },
  "cells": [
    {
      "cell_type": "markdown",
      "source": [
        "Python - Capstone Project\n",
        "Project Title: OTP Verification System\n",
        "\n",
        "Problem Statement:\n",
        "\n",
        "You are tasked with developing an OTP (One-Time Password) verification system in Python. The system should generate a 6-digit OTP and send it to the user's email address for verification. Upon receiving the OTP, the user should enter it into the system for validation. If the entered OTP matches the generated OTP, access should be granted; otherwise, access should be denied.\n",
        "\n",
        "Project Requirements:\n",
        "\n",
        "Implement a function to generate a 6-digit OTP randomly.\n",
        "\n",
        "Develop a function to simulate sending the OTP to the user's email address.\n",
        "\n",
        "Create a function to prompt the user to enter the OTP received in their email.\n",
        "\n",
        "Implement a function to verify if the entered OTP matches the generated OTP.\n",
        "\n",
        "Ensure proper error handling and user-friendly prompts throughout the system.\n",
        "\n",
        "Allow the user to retry OTP entry in case of incorrect input.\n",
        "\n",
        "Project Deliverables:\n",
        "\n",
        "Python script containing the implementation of the OTP verification system.\n",
        "\n",
        "Documentation explaining the functionality of each function, how to run the program, and any dependencies required.\n",
        "\n",
        "Test cases to ensure the system functions correctly under various scenarios, including correct and incorrect OTP entries.\n",
        "\n",
        "Optionally, you can create a simple GUI interface for the OTP verification system to enhance user experience.\n",
        "\n",
        "Project Evaluation:\n",
        "\n",
        "Your project will be evaluated based on the following criteria:\n",
        "\n",
        "Correctness and functionality of the OTP generation, sending, and verification process.\n",
        "\n",
        "Code quality, including adherence to Python best practices, readability, and documentation.\n",
        "\n",
        "Error handling and user interaction aspects of the system.\n",
        "\n",
        "Robustness and reliability of the system under different scenarios.\n",
        "\n",
        "Optional: Creativity and usability of the GUI interface (if implemented)."
      ],
      "metadata": {
        "id": "WbmqsvIfKAZz"
      }
    },
    {
      "cell_type": "code",
      "source": [
        "import random   ### import random function from python library\n",
        "import smtplib    ### import smtplib function from python library, it is going to provide server with which start connection to send email to the user\n",
        "from email.message import EmailMessage   ## to provide message import email message function from python library\n",
        "\n",
        "otp = \"\"                          ## created varaible to store otp\n",
        "for i in range(6):                ##Using for loop in the range 6 and to generate random otp\n",
        "  otp+=str(random.randint(0,9))    ## conacatenate otp and to generate otp between 0,9 to get random 6 digits\n",
        "print(otp)                          ## using print to get the otp amd we execute everytime it will give unique 6 digit otp\n",
        "\n",
        "\n",
        "server = smtplib.SMTP(\"smtp.gmail.com\", 587)  ## creating server for email provider and taking 587 as port and it is opened information\n",
        "server.starttls()                             ## Starting our tls server\n",
        "\n",
        "\n",
        "\n",
        "from_mail = \"shanmu3699@gmail.com\"             ## given my own email id\n",
        "server.login(from_mail, \"vlte ojoh vuqh cvml\")  ## login to the server for my own email address and giving passwordt taking from app passwords in the gmail\n",
        "to_mail = input(\"Enter your email: \")            ## To which email i have to send otp to select that email\n",
        "\n",
        "msg = EmailMessage()                         ## created object as msg for emailmessage\n",
        "msg[\"Subject\"] = \"OTP Verification\"           ## subject given as OTP verification\n",
        "msg[\"From\"] = from_mail                      ## to get message from  \"from email\"\n",
        "msg[\"To\"] = to_mail                          ## to email message to \"to email\"\n",
        "\n",
        "msg.set_content(\"Your OTP is:\" + otp)        ## to set the content for the message and concatenated otp\n",
        "server.send_message(msg)                    ## to send the message with the object message\n",
        "\n",
        "input_otp = input(\"Enter OTP: \")           ### to input otp and saved in the object under input_otp\n",
        "if input_otp == otp:                        ## using if condition if input_otp is equals to otp it will print otp verifed\n",
        "  print(\"OTP Verified\")\n",
        "else:\n",
        "  print(\"Invalid OTP\")                        ## otherwise print invalid otp\n",
        "\n",
        "print(\"Email sent\")"
      ],
      "metadata": {
        "id": "5isp0DNFJ8L6"
      },
      "execution_count": null,
      "outputs": []
    },
    {
      "cell_type": "markdown",
      "source": [
        "conclusion:\n",
        "\n",
        "1. The code defined above generates and sends OTP messages from \"from_email\" to \"to_email.\" Simple functions like if condition and for loop are the only ones used in this project in order to create the code and understand it in an easy way.\n",
        "\n",
        "2. Imported functions, such as email.message, smtplib, and random, in order to easily understand the code and to obtain some texted data for this project.\n",
        "\n",
        "3. created a server on which the SMTP function will be used to send the email, and concatenated both strings and integers.\n",
        "\n",
        "4. When the code runs in the end, it will produce a unique six-digit code each time. If we enter the correct one, it will print as otp verified and email sent.\n",
        "\n",
        "5. If the incorrect OTP is entered, it should be invalid, and it will print as invalid otp.\n",
        "\n",
        "\n",
        "\n",
        "\n",
        "\n"
      ],
      "metadata": {
        "id": "RRF8LmHaBq3P"
      }
    }
  ]
}